{
  "nbformat": 4,
  "nbformat_minor": 0,
  "metadata": {
    "colab": {
      "provenance": []
    },
    "kernelspec": {
      "name": "python3",
      "display_name": "Python 3"
    },
    "language_info": {
      "name": "python"
    }
  },
  "cells": [
    {
      "cell_type": "code",
      "execution_count": 1,
      "metadata": {
        "colab": {
          "base_uri": "https://localhost:8080/"
        },
        "id": "IGhPjhMU9W8N",
        "outputId": "fc8a633d-8989-4dea-8b48-4cb17c7d540a"
      },
      "outputs": [
        {
          "output_type": "stream",
          "name": "stdout",
          "text": [
            "the number of pairs with sum = 10 are\n",
            "2\n"
          ]
        }
      ],
      "source": [
        "def fun():\n",
        "    a = [2,7,4,1,3,6]\n",
        "    b = []\n",
        "    for x in range (0,6):\n",
        "        for y in range (x+1,6):\n",
        "            if(a[x]+a[y]==10):\n",
        "                b.append(a[x])\n",
        "                b.append(a[y])\n",
        "    return b\n",
        "\n",
        "\n",
        "answer = []\n",
        "answer = fun()\n",
        "print(\"the number of pairs with sum = 10 are\")\n",
        "print(int(len(answer)/2))"
      ]
    },
    {
      "cell_type": "code",
      "source": [
        "def rng(lst, n):\n",
        "    if n < 3:\n",
        "        return False\n",
        "\n",
        "    min = lst[0]\n",
        "    max = lst[0]\n",
        "\n",
        "\n",
        "    for x in range(1, n):\n",
        "        if (lst[x] < min):\n",
        "            min = lst[x]\n",
        "\n",
        "\n",
        "    for y in range(1, n):\n",
        "        if (lst[y] > max):\n",
        "            max = lst[y]\n",
        "\n",
        "\n",
        "    m = max - min\n",
        "    return m\n",
        "\n",
        "\n",
        "lst = []\n",
        "n = int(input(\"Enter number of elements: \"))\n",
        "for p in range(0,n):\n",
        "    ele = int(input())\n",
        "    lst.append(ele)\n",
        "\n",
        "\n",
        "result = rng(lst, n)\n",
        "if result is False:\n",
        "    print(\"Not enough elements to calculate range.\")\n",
        "else:\n",
        "    print(\"Range:\", result)"
      ],
      "metadata": {
        "id": "8S5D62HB9cU2"
      },
      "execution_count": null,
      "outputs": []
    },
    {
      "cell_type": "code",
      "source": [
        "def matrix_multi(A, B):\n",
        "    n=len(A)\n",
        "    r=[[0]*n for _ in range(n)]\n",
        "    for i in range(n):\n",
        "        for j in range(n):\n",
        "            for k in range(n):\n",
        "                r[i][j]+=A[i][k]*B[k][j]\n",
        "    return r\n",
        "\n",
        "\n",
        "def power(A,m):\n",
        "    r=A\n",
        "    for _ in range(m - 1):\n",
        "        r=matrix_multi(r, A)\n",
        "    return r\n",
        "\n",
        "\n",
        "\n",
        "A=[[4, 7, 2], [5, 3, 2], [9, 4, 5]]\n",
        "m=int(input(\"enter value of m\"))\n",
        "r=power(A, m)\n",
        "\n",
        "print(\"A^m=\")\n",
        "for i in r:\n",
        "    print(i)"
      ],
      "metadata": {
        "id": "2vMMET9g9lmj"
      },
      "execution_count": null,
      "outputs": []
    },
    {
      "cell_type": "code",
      "source": [
        "def occ(s):\n",
        "    count = {}\n",
        "    for char in s:\n",
        "        if char.isalpha():\n",
        "            if char in count:\n",
        "                count[char] += 1\n",
        "            else:\n",
        "                count[char] = 1\n",
        "\n",
        "    max = max(count, key=count.get)\n",
        "    mcount = count[max]\n",
        "\n",
        "    return max, mcount\n",
        "\n",
        "s = input(\"Enter a string: \")\n",
        "char, count = occ(s)\n",
        "print(f\"The highest occurring character is '{char}' with an occurrence count of {count}.\")\n"
      ],
      "metadata": {
        "id": "ERK9Z3uH9zkz"
      },
      "execution_count": null,
      "outputs": []
    }
  ]
}